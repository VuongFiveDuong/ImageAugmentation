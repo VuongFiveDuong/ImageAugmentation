{
 "cells": [
  {
   "cell_type": "code",
   "execution_count": 2,
   "id": "f49b8a0d",
   "metadata": {},
   "outputs": [],
   "source": [
    "import numpy as np\n",
    "import cv2, os, random, glob\n",
    "from matplotlib import pyplot as plt\n",
    "from collections import Counter\n",
    "\n",
    "\n",
    "# 1 pkm card size pixel = 2078(h) x 1488(w)\n",
    "# 1 cm ~ 236.2 pixels\n",
    "# dpi = 600\n"
   ]
  },
  {
   "cell_type": "code",
   "execution_count": 3,
   "id": "5fe87e04",
   "metadata": {},
   "outputs": [],
   "source": [
    "batch_path = './Batch/batch_en.jpg'\n",
    "x = [100, 1800, 3500, 5200]\n",
    "y = [200, 2600, 5000, 7400]\n",
    "h = 2300\n",
    "w = 1700\n",
    "\n",
    "for i in range(4):\n",
    "    for j in range(4):\n",
    "        index = len(glob.glob1(\"./OriginalImages\",\"*.jpg\"))\n",
    "        img = cv2.imread(batch_path)\n",
    "        crop_img = img[y[i]:y[i]+h, x[j]:x[j]+w] #crop\n",
    "        cv2.imwrite('./OriginalImages/PKM_'+str(index).zfill(3)+'F_en.jpg', crop_img)\n",
    "        \n"
   ]
  },
  {
   "cell_type": "code",
   "execution_count": null,
   "id": "dd12803c",
   "metadata": {},
   "outputs": [],
   "source": []
  },
  {
   "cell_type": "code",
   "execution_count": null,
   "id": "ccb89fc9",
   "metadata": {},
   "outputs": [],
   "source": []
  },
  {
   "cell_type": "code",
   "execution_count": null,
   "id": "fa91aa3f",
   "metadata": {},
   "outputs": [],
   "source": []
  },
  {
   "cell_type": "code",
   "execution_count": null,
   "id": "c98e02c0",
   "metadata": {},
   "outputs": [],
   "source": []
  }
 ],
 "metadata": {
  "kernelspec": {
   "display_name": "Python 3 (ipykernel)",
   "language": "python",
   "name": "python3"
  },
  "language_info": {
   "codemirror_mode": {
    "name": "ipython",
    "version": 3
   },
   "file_extension": ".py",
   "mimetype": "text/x-python",
   "name": "python",
   "nbconvert_exporter": "python",
   "pygments_lexer": "ipython3",
   "version": "3.9.7"
  }
 },
 "nbformat": 4,
 "nbformat_minor": 5
}
