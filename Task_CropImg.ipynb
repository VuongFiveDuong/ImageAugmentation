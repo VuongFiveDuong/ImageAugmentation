{
 "cells": [
  {
   "cell_type": "code",
   "execution_count": 2,
   "id": "1b325cab",
   "metadata": {},
   "outputs": [],
   "source": [
    "import numpy as np\n",
    "import cv2, os, random, glob\n",
    "from matplotlib import pyplot as plt\n",
    "from collections import Counter\n",
    "\n",
    "\n",
    "# 1 pkm card size pixel = 2078(h) x 1488(w)\n",
    "# 1 cm ~ 236.2 pixels\n",
    "# dpi = 600\n"
   ]
  },
  {
   "cell_type": "code",
   "execution_count": 3,
   "id": "21bb1f2c",
   "metadata": {},
   "outputs": [],
   "source": [
    "batch_path = './Batch/batch_en.jpg'\n",
    "x = [100, 1800, 3500, 5200]\n",
    "y = [200, 2600, 5000, 7400]\n",
    "h = 2300\n",
    "w = 1700\n",
    "\n",
    "for i in range(4):\n",
    "    for j in range(4):\n",
    "        index = len(glob.glob1(\"./OriginalImages\",\"*.jpg\"))\n",
    "        img = cv2.imread(batch_path)\n",
    "        crop_img = img[y[i]:y[i]+h, x[j]:x[j]+w] #crop\n",
    "        cv2.imwrite('./OriginalImages/PKM_'+str(index).zfill(3)+'F_en.jpg', crop_img)\n",
    "        \n"
   ]
  },
  {
   "cell_type": "code",
   "execution_count": 9,
   "id": "cd69b262",
   "metadata": {},
   "outputs": [],
   "source": [
    "# Import required packages\n",
    "import cv2\n",
    "import pytesseract\n",
    "\n",
    "# Mention the installed location of Tesseract-OCR in your system\n",
    "pytesseract.pytesseract.tesseract_cmd = r'/opt/homebrew/Cellar/tesseract/5.0.0/bin/tesseract'\n",
    "\n",
    "# Read image from which text needs to be extracted\n",
    "img = cv2.imread(batch_path)\n",
    "\n",
    "# Preprocessing the image starts\n",
    "\n",
    "# Convert the image to gray scale\n",
    "gray = cv2.cvtColor(img, cv2.COLOR_BGR2GRAY)\n",
    "\n",
    "# Performing OTSU threshold\n",
    "ret, thresh1 = cv2.threshold(gray, 0, 255, cv2.THRESH_OTSU | cv2.THRESH_BINARY_INV)\n",
    "\n",
    "# Specify structure shape and kernel size.\n",
    "# Kernel size increases or decreases the area\n",
    "# of the rectangle to be detected.\n",
    "# A smaller value like (10, 10) will detect\n",
    "# each word instead of a sentence.\n",
    "rect_kernel = cv2.getStructuringElement(cv2.MORPH_RECT, (18, 18))\n",
    "\n",
    "# Applying dilation on the threshold image\n",
    "dilation = cv2.dilate(thresh1, rect_kernel, iterations = 1)\n",
    "\n",
    "# Finding contours\n",
    "contours, hierarchy = cv2.findContours(dilation, cv2.RETR_EXTERNAL,cv2.CHAIN_APPROX_NONE)\n",
    "\n",
    "# Creating a copy of image\n",
    "im2 = img.copy()\n",
    "\n",
    "# A text file is created and flushed\n",
    "file = open(\"recognized.txt\", \"w+\")\n",
    "file.write(\"\")\n",
    "file.close()\n",
    "\n",
    "# Looping through the identified contours\n",
    "# Then rectangular part is cropped and passed on\n",
    "# to pytesseract for extracting text from it\n",
    "# Extracted text is then written into the text file\n",
    "for cnt in contours:\n",
    "    x, y, w, h = cv2.boundingRect(cnt)\n",
    "\n",
    "    # Drawing a rectangle on copied image\n",
    "    rect = cv2.rectangle(im2, (x, y), (x + w, y + h), (0, 255, 0), 2)\n",
    "\n",
    "    # Cropping the text block for giving input to OCR\n",
    "    cropped = im2[y:y + h, x:x + w]\n",
    "\n",
    "    # Open the file in append mode\n",
    "    file = open(\"recognized.txt\", \"a\")\n",
    "\n",
    "    # Apply OCR on the cropped image\n",
    "    text = pytesseract.image_to_string(cropped)\n",
    "\n",
    "    # Appending the text into file\n",
    "    file.write(text)\n",
    "    file.write(\"\\n\")\n",
    "\n",
    "    # Close the file\n",
    "    file.close\n"
   ]
  },
  {
   "cell_type": "code",
   "execution_count": 34,
   "id": "3f446386",
   "metadata": {},
   "outputs": [
    {
     "data": {
      "text/plain": [
       "'PlusPower ©\\n\\nAttach PlusPower to | of your Pokémon.\\nDiscard this card at the end of your turn.\\n\\nIf the Pokémon PlusPower is attached to\\nattacks, the attack does 10 more damage\\nto the Active Pokémon (before applying\\nWeakness and Resistance).\\n\\n \\n'"
      ]
     },
     "execution_count": 34,
     "metadata": {},
     "output_type": "execute_result"
    }
   ],
   "source": [
    "from pytesseract import *\n",
    "from PIL import Image\n",
    "\n",
    "image = cv2.imread(\"./CroppedImages/PKM_037F_en.jpg\")\n",
    "text = image_to_string(image)\n",
    "text\n"
   ]
  },
  {
   "cell_type": "code",
   "execution_count": null,
   "id": "7e0482e2",
   "metadata": {},
   "outputs": [],
   "source": []
  },
  {
   "cell_type": "code",
   "execution_count": null,
   "id": "801d8536",
   "metadata": {},
   "outputs": [],
   "source": []
  }
 ],
 "metadata": {
  "kernelspec": {
   "display_name": "Python 3 (ipykernel)",
   "language": "python",
   "name": "python3"
  },
  "language_info": {
   "codemirror_mode": {
    "name": "ipython",
    "version": 3
   },
   "file_extension": ".py",
   "mimetype": "text/x-python",
   "name": "python",
   "nbconvert_exporter": "python",
   "pygments_lexer": "ipython3",
   "version": "3.9.7"
  }
 },
 "nbformat": 4,
 "nbformat_minor": 5
}
